{
 "cells": [
  {
   "cell_type": "code",
   "execution_count": 1,
   "metadata": {},
   "outputs": [
    {
     "name": "stdout",
     "output_type": "stream",
     "text": [
      "grdinfo [WARNING]: 2971229 Multiple modes found in the grid\n",
      "threesis_19950924_20010902.grd: Title: ERS2 Rangechange Interferogram stack, 19950924-20010902\n",
      "threesis_19950924_20010902.grd: Command: xyz2grd -V -R-122.60/-120.4008333333/42.9/45.09916667 -I3c/3c tmp.xyz -Grng_avg_9.grd -Ddd/dd/mm/1/=/Demeaned Range Change\n",
      "threesis_19950924_20010902.grd: Remark: WGS84, 20.5 deg incidence angle, 192.7 deg Az satellite heading, nodata=-9999\n",
      "threesis_19950924_20010902.grd: Gridline node registration used [Cartesian grid]\n",
      "threesis_19950924_20010902.grd: Grid file format: nf = GMT netCDF format (32-bit float), CF-1.7\n",
      "threesis_19950924_20010902.grd: x_min: -122.600000002 x_max: -120.400833335 x_inc: 0.000833333333346 name: deg n_columns: 2640\n",
      "threesis_19950924_20010902.grd: y_min: 42.9 y_max: 45.09916667 y_inc: 0.000833333334596 name: deg n_rows: 2640\n",
      "threesis_19950924_20010902.grd: z_min: -9999 z_max: 29.9956474304 name: mm\n",
      "threesis_19950924_20010902.grd: scale_factor: 1 add_offset: 0\n",
      "threesis_19950924_20010902.grd: median: -9999 scale: 0\n",
      "threesis_19950924_20010902.grd: mean: -9262.47516834 stdev: 2611.38358046 rms: 9623.55280256\n",
      "threesis_19950924_20010902.grd: mode: -9999 lmsscale: 0\n",
      "threesis_19950924_20010902.grd: format: classic\n"
     ]
    }
   ],
   "source": [
    "#########################################################################\n",
    "# define filename and use gmt grdinfo to display information about grid #\n",
    "#########################################################################\n",
    "\n",
    "FILENAME = 'threesis_19950924_20010902.grd'\n",
    "# ! indicates a shell command, -La scans the date to report real z stats\n",
    "! gmt grdinfo $FILENAME -La"
   ]
  },
  {
   "cell_type": "code",
   "execution_count": 31,
   "metadata": {},
   "outputs": [
    {
     "name": "stdout",
     "output_type": "stream",
     "text": [
      "grdblend [WARNING]: File @N40W130.earth_relief_15s_p.nc has different increments (0.00416666666667/0.00416666666667) than the output grid (0.000277777777778/0.000277777777778) - must resample\n",
      "grdblend [WARNING]: File @N40W130.earth_relief_15s_p.nc coordinates are phase-shifted w.r.t. the output grid - must resample\n"
     ]
    }
   ],
   "source": [
    "#######################################\n",
    "# make a color plot to visualize data #\n",
    "#######################################\n",
    "\n",
    "# use automatic=True to find the bounds of the region from the grid file,\n",
    "# or use automatic=False to supply different bounds to plot \n",
    "automatic = False\n",
    "\n",
    "if automatic:\n",
    "    # first store the region that the grid file encompasses as variables to pass to GMT\n",
    "    XMIN = ! gmt grdinfo $FILENAME -Cn -o0\n",
    "    XMAX = ! gmt grdinfo $FILENAME -Cn -o1\n",
    "    YMIN = ! gmt grdinfo $FILENAME -Cn -o2\n",
    "    YMAX = ! gmt grdinfo $FILENAME -Cn -o3\n",
    "    # the above gmt grdinfo command stores the values in a list. we only want the string\n",
    "    XMIN = XMIN[0]\n",
    "    XMAX = XMAX[0]\n",
    "    YMIN = YMIN[0]\n",
    "    YMAX = YMAX[0]\n",
    "else:\n",
    "    # define bounds to plot\n",
    "    XMIN = -122.1\n",
    "    XMAX = -121.4\n",
    "    YMIN = 43.7\n",
    "    YMAX = 44.5\n",
    "\n",
    "# feed the data to gmt, write to color_grid.png\n",
    "! gmt begin color_grid png\n",
    "\n",
    "    # create the map frame and set the region and projection\n",
    "!    gmt basemap -R$XMIN/$XMAX/$YMIN/$YMAX -JM15c -Baf\n",
    "\n",
    "    # plot topography using gmt built-in dataset at the highest resolution\n",
    "!    gmt grdimage @earth_relief_01s -Cgray -I+d\n",
    "\n",
    "    # make a new colormap that only covers the values of interest for the grid\n",
    "!    gmt makecpt -Cseis -T-140/35\n",
    "\n",
    "    # plot grid as colored map using grdimage, transparency 60%\n",
    "!    gmt grdimage $FILENAME -t60 -Q\n",
    "\n",
    "    # show the colorbar, ticks every 25 mm, add title\n",
    "!    gmt colorbar -B25 -Bx+l\"range change [mm]\"\n",
    "\n",
    "#     # to plot a fake point source \n",
    "# !    echo -121.835 44.090 > t.dat\n",
    "# !    gmt plot t.dat -Gblack -Sc0.5c\n",
    "\n",
    "! gmt end show"
   ]
  },
  {
   "cell_type": "code",
   "execution_count": 21,
   "metadata": {},
   "outputs": [
    {
     "data": {
      "text/plain": [
       "\"\\n# for a simply regridding use gmt to resample the grid as below:\\n# define output file name\\nOUTFILE = 'resampled.grd'\\n# resample using grdsample, -I denotes number of nodes, -R denotes subregion, \\n! gmt grdsample $FILENAME -I0.02 -R$XMIN/$XMAX/$YMIN/$YMAX -G$OUTFILE\\n# inspect the details of the new file\\n! gmt grdinfo $OUTFILE -La\\n\""
      ]
     },
     "execution_count": 21,
     "metadata": {},
     "output_type": "execute_result"
    }
   ],
   "source": [
    "########################################\n",
    "# subsample the grid file to 80 points #\n",
    "########################################\n",
    "\"\"\"\n",
    "# for a simply regridding use gmt to resample the grid as below:\n",
    "# define output file name\n",
    "OUTFILE = 'resampled.grd'\n",
    "# resample using grdsample, -I denotes number of nodes, -R denotes subregion, \n",
    "! gmt grdsample $FILENAME -I0.02 -R$XMIN/$XMAX/$YMIN/$YMAX -G$OUTFILE\n",
    "# inspect the details of the new file\n",
    "! gmt grdinfo $OUTFILE -La\n",
    "\"\"\"\n",
    "\n",
    "# define region of interest to subsample\n",
    "XMIN = -122.1\n",
    "XMAX = -121.4\n",
    "YMIN = 43.7\n",
    "YMAX = 44.5\n",
    "\n",
    "# write grd file to text to sample the grid pythonically \n",
    "! gmt grd2xyz $FILENAME -R$XMIN/$XMAX/$YMIN/$YMAX > grid.xyz\n",
    "\n",
    "# load the xyz file\n",
    "# to np or dask array?\n",
    "\n",
    "# for this case I want to sample the grid more densely near the deformation source\n",
    "deformation_Source = (-121.835, 44.090) # this is a guess\n",
    "\n",
    "# find all points within __ distance to the deformation source\n",
    "#  np.where or dask where\n",
    "\n",
    "# randomly sample those points 40 times\n",
    "\n",
    "# randomly sample remaining points > ___ distance from the deformation source 40 times\n",
    "\n",
    "# save as xyz file\n"
   ]
  },
  {
   "cell_type": "code",
   "execution_count": 20,
   "metadata": {},
   "outputs": [
    {
     "name": "stdout",
     "output_type": "stream",
     "text": [
      "grdblend [WARNING]: File @N40W130.earth_relief_15s_p.nc has different increments (0.00416666666667/0.00416666666667) than the output grid (0.000277777777778/0.000277777777778) - must resample\n",
      "grdblend [WARNING]: File @N40W130.earth_relief_15s_p.nc coordinates are phase-shifted w.r.t. the output grid - must resample\n"
     ]
    }
   ],
   "source": [
    "# plot xyz file in gmt plot & grdimage"
   ]
  },
  {
   "cell_type": "code",
   "execution_count": null,
   "metadata": {},
   "outputs": [],
   "source": [
    "#################################\n",
    "# plot the subsampled grid file #\n",
    "#################################\n",
    "\n",
    "# feed the data to gmt, write to resampled_grid.png\n",
    "! gmt begin resampled_grid png\n",
    "\n",
    "    # create the map frame and set the region and projection\n",
    "!    gmt basemap -R$XMIN/$XMAX/$YMIN/$YMAX -JM15c -Baf\n",
    "\n",
    "    # plot topography using gmt built-in dataset at the highest resolution\n",
    "!    gmt grdimage @earth_relief_01s -Cgray -I+d\n",
    "\n",
    "    # make a new colormap that only covers the values of interest for the grid\n",
    "!    gmt makecpt -Cseis -T-140/35\n",
    "\n",
    "    # plot grid as colored map using grdimage, transparency 60%\n",
    "!    gmt grdimage resampled.grd -t60\n",
    "\n",
    "    # show the colorbar, ticks every 25 mm, add title\n",
    "!    gmt colorbar -B25 -Bx+l\"range change [mm]\"\n",
    "\n",
    "! gmt end show"
   ]
  }
 ],
 "metadata": {
  "kernelspec": {
   "display_name": "roses",
   "language": "python",
   "name": "roses"
  },
  "language_info": {
   "codemirror_mode": {
    "name": "ipython",
    "version": 3
   },
   "file_extension": ".py",
   "mimetype": "text/x-python",
   "name": "python",
   "nbconvert_exporter": "python",
   "pygments_lexer": "ipython3",
   "version": "3.7.6"
  }
 },
 "nbformat": 4,
 "nbformat_minor": 4
}

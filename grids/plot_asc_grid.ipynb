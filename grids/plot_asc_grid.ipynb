{
 "cells": [
  {
   "cell_type": "code",
   "execution_count": 8,
   "metadata": {},
   "outputs": [
    {
     "name": "stdout",
     "output_type": "stream",
     "text": [
      "plot_asc_grid.asc: Title: Grid imported via GDAL\n",
      "plot_asc_grid.asc: Command: \n",
      "plot_asc_grid.asc: Remark: \n",
      "plot_asc_grid.asc: Gridline node registration used [Cartesian grid]\n",
      "plot_asc_grid.asc: Grid file format: gd = Import/export through GDAL\n",
      "plot_asc_grid.asc: x_min: -125.95 x_max: -120.95 x_inc: 0.1 name: x n_columns: 51\n",
      "plot_asc_grid.asc: y_min: 45.05 y_max: 49.55 y_inc: 0.1 name: y n_rows: 46\n",
      "plot_asc_grid.asc: z_min: -9.1219997406 z_max: 15.3649997711 name: z\n",
      "plot_asc_grid.asc: scale_factor: 1 add_offset: 0\n",
      "plot_asc_grid.asc: median: -0.136999994516 scale: 1.29801633464\n",
      "plot_asc_grid.asc: mean: -0.0350055409945 stdev: 2.74722963375 rms: 2.74686711772\n",
      "plot_asc_grid.asc: mode: 0.0150000154972 lmsscale: 1.20387125373\n"
     ]
    }
   ],
   "source": [
    "\"\"\"\n",
    "Purpose of notebook: 1: read a grid from an .asc file\n",
    "                     2: plot the grid using GMT\n",
    "                     \n",
    "Requirements: gmt\n",
    "\"\"\"\n",
    "\n",
    "#########################################################################\n",
    "# define filename and use gmt grdinfo to display information about grid #\n",
    "#########################################################################\n",
    "\n",
    "FILENAME = 'plot_asc_grid.asc'\n",
    "# ! indicates a shell command, -La scans the date to report real z stats\n",
    "! gmt grdinfo $FILENAME -La"
   ]
  },
  {
   "cell_type": "code",
   "execution_count": 21,
   "metadata": {},
   "outputs": [
    {
     "name": "stdout",
     "output_type": "stream",
     "text": [
      "grdblend [WARNING]: File @N40W130.earth_relief_15s_p.nc has different increments (0.00416666666667/0.00416666666667) than the output grid (0.000277777777778/0.000277777777778) - must resample\n",
      "grdblend [WARNING]: File @N40W130.earth_relief_15s_p.nc coordinates are phase-shifted w.r.t. the output grid - must resample\n"
     ]
    }
   ],
   "source": [
    "#######################################\n",
    "# make a color plot to visualize data #\n",
    "#######################################\n",
    "\n",
    "# use automatic=True to find the bounds of the region from the grid file,\n",
    "# or use automatic=False to supply different bounds to plot \n",
    "automatic = False\n",
    "\n",
    "if automatic:\n",
    "    # first store the region that the grid file encompasses as variables to pass to GMT\n",
    "    XMIN = ! gmt grdinfo $FILENAME -Cn -o0\n",
    "    XMAX = ! gmt grdinfo $FILENAME -Cn -o1\n",
    "    YMIN = ! gmt grdinfo $FILENAME -Cn -o2\n",
    "    YMAX = ! gmt grdinfo $FILENAME -Cn -o3\n",
    "    # the above gmt grdinfo command stores the values in a list. we only want the string\n",
    "    XMIN = XMIN[0]\n",
    "    XMAX = XMAX[0]\n",
    "    YMIN = YMIN[0]\n",
    "    YMAX = YMAX[0]\n",
    "else:\n",
    "    # define bounds to plot\n",
    "#     XMIN = -125.0\n",
    "#     XMAX = -121.5\n",
    "#     YMIN = 45.5\n",
    "#     YMAX = 49.0\n",
    "    XMIN = -124.9\n",
    "    XMAX = -121.3\n",
    "    YMIN = 45.5\n",
    "    YMAX = 48.7\n",
    "\n",
    "# feed the data to gmt, write to color_asc_grid.png\n",
    "! gmt begin color_asc_grid png\n",
    "\n",
    "    # create the map frame and set the region and projection\n",
    "!    gmt basemap -R$XMIN/$XMAX/$YMIN/$YMAX -JM15c -Baf\n",
    "\n",
    "    # plot topography using gmt built-in dataset at the highest resolution\n",
    "!    gmt grdimage @earth_relief_01s -Cgray -I+d\n",
    "\n",
    "    # plot the coast\n",
    "!    gmt coast -Wthin -Df -Swhite -N2/thin,black\n",
    "\n",
    "    # make a new colormap that only covers the values of interest for the grid\n",
    "!    gmt makecpt -Cjet -T-3/3.4\n",
    "\n",
    "    # plot grid as colored map using grdimage, transparency 60%\n",
    "!    gmt grdimage $FILENAME -t25 -Q\n",
    "\n",
    "    # show the colorbar, ticks every 1 mm, add title\n",
    "!    gmt colorbar -B1 -Bx+l\"vertical velocity [mm]\"\n",
    "\n",
    "    # add inset, -F+gwhite+pthick\n",
    "!    gmt inset begin -DjBR+w4c+o0.2c -M0\n",
    "!        gmt coast -Rg -JG124W/47N/3.8c -Gwheat -Sskyblue -Bg -EUS.WA+gred\n",
    "!    gmt inset end\n",
    "\n",
    "! gmt end show"
   ]
  },
  {
   "cell_type": "code",
   "execution_count": null,
   "metadata": {},
   "outputs": [],
   "source": []
  }
 ],
 "metadata": {
  "kernelspec": {
   "display_name": "roses",
   "language": "python",
   "name": "roses"
  },
  "language_info": {
   "codemirror_mode": {
    "name": "ipython",
    "version": 3
   },
   "file_extension": ".py",
   "mimetype": "text/x-python",
   "name": "python",
   "nbconvert_exporter": "python",
   "pygments_lexer": "ipython3",
   "version": "3.7.6"
  }
 },
 "nbformat": 4,
 "nbformat_minor": 4
}

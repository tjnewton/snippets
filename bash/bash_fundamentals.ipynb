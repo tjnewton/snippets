{
 "cells": [
  {
   "cell_type": "code",
   "execution_count": null,
   "metadata": {},
   "outputs": [],
   "source": [
    "# Purpose of notebook: 1: reference for learning and relearning\n",
    "# the fundamentals of bash, the Bourne Again Shell, a command \n",
    "# line interpreter. "
   ]
  },
  {
   "cell_type": "code",
   "execution_count": 19,
   "metadata": {},
   "outputs": [
    {
     "name": "stdout",
     "output_type": "stream",
     "text": [
      "Thu Oct  1 20:22:41 PDT 2020\n",
      "/Users/human/git/snippets/bash\n",
      "bash_fundamentals.ipynb\n",
      "testing\n",
      "1\n",
      "2.0\n",
      "three\n",
      " four\n",
      "five and six\n"
     ]
    }
   ],
   "source": [
    "%%bash \n",
    "# %%bash is cell magic that runs the notebook cell with bash\n",
    "\n",
    "# We have to start somewhere so let's begin with some random \n",
    "# and simple bash commands. \n",
    "\n",
    "# print the date\n",
    "date\n",
    "\n",
    "# print the path to the current working directory\n",
    "pwd\n",
    "\n",
    "# list files in current working directory\n",
    "ls\n",
    "\n",
    "# date, pwd, and ls don't require additional information, or\n",
    "# arguments. However most commands require agrumemts, like echo.\n",
    "# print 'testing' using echo. \n",
    "echo testing\n",
    "\n",
    "# semicolons are command seperators, notice how spaces are treated\n",
    "echo 1; echo 2.0; echo       three; echo ' four'; echo five and six\n",
    "# note how consecutive whitespace is ignored unless it is inside\n",
    "# quotes, e.g. \"\" or ''."
   ]
  },
  {
   "cell_type": "code",
   "execution_count": 29,
   "metadata": {},
   "outputs": [
    {
     "name": "stdout",
     "output_type": "stream",
     "text": [
      "Howdy y'all!\n",
      "That snake just said \"sssssss\" (⊙_☉)\n"
     ]
    }
   ],
   "source": [
    "%%bash\n",
    "\n",
    "################################################\n",
    "# now let's back up. how does bash read input? #\n",
    "################################################\n",
    "\n",
    "# bash breaks up input by spaces (blanks), tabs, or punctuation (e.g ;).\n",
    "# the first word of the input denotes the program to execute, so echo is \n",
    "# the program being executed in \"echo testing\". The remaining contents\n",
    "# of the input (before any ;) are supplied to the program as a list of \n",
    "# words. This is why leading or trailing whitespace is ignored by echo, \n",
    "# it does not change the list of words. Items surroumded by quotes are \n",
    "# treated as a single word. For this same reason we can put quotes around\n",
    "# a characters that we want to be considered a single word, even if it\n",
    "# contains a quote. For example:\n",
    "\n",
    "echo \"Howdy y'all!\"\n",
    "\n",
    "echo 'That snake just said \"sssssss\" (⊙_☉)'\n",
    "\n",
    "# for wc, - uses standard input from term, ctrl+d ends standard input and runs wc\n",
    "#! wc -l foo.c - foo.c\n",
    "\n",
    "# long and short flags, options, elipses, slides . and .. and ~\n",
    "# \"cd ~\" == \"cd \"\n",
    "\n",
    "# pressing ctrl+u will erase the current line in a bash terminal\n",
    "# reccomend a virtual machine for testing rm and other commands that can cause havoc"
   ]
  },
  {
   "cell_type": "code",
   "execution_count": 7,
   "metadata": {},
   "outputs": [
    {
     "name": "stdout",
     "output_type": "stream",
     "text": [
      "LICENSE\n",
      "README.md\n",
      "bash\n",
      "grids\n",
      "snippets.yml\n",
      "\n",
      "LICENSE\n",
      "README.md\n",
      "bash/\n",
      "grids/\n",
      "snippets.yml\n",
      "\n"
     ]
    },
    {
     "name": "stderr",
     "output_type": "stream",
     "text": [
      "ls: illegal option -- -\n",
      "usage: ls [-@ABCFGHLOPRSTUWabcdefghiklmnopqrstuwx1%] [file ...]\n"
     ]
    },
    {
     "ename": "CalledProcessError",
     "evalue": "Command 'b'\\n###############################\\n# program options (arguments) #\\n###############################\\n\\n# There are short options start with a - and are usually a single letter,\\n# and there are long options that start with -- and are written out in full\\n# (e.g. --name=value). \\n\\n# change directory to parent to see more files\\ncd ..\\n\\n# normal ls without options as seen above\\nls\\n\\n# add blank line under the output from above\\necho  \\n\\n# short option to list all files in current working directory\\nls -p\\n\\n# add blank line under the output from above\\necho  \\n\\n# long option to list all files in current working directory (same as -a)\\nls --indicator-style=slash\\n'' returned non-zero exit status 1.",
     "output_type": "error",
     "traceback": [
      "\u001b[0;31m---------------------------------------------------------------------------\u001b[0m",
      "\u001b[0;31mCalledProcessError\u001b[0m                        Traceback (most recent call last)",
      "\u001b[0;32m<ipython-input-7-a8a33d1d559c>\u001b[0m in \u001b[0;36m<module>\u001b[0;34m\u001b[0m\n\u001b[0;32m----> 1\u001b[0;31m \u001b[0mget_ipython\u001b[0m\u001b[0;34m(\u001b[0m\u001b[0;34m)\u001b[0m\u001b[0;34m.\u001b[0m\u001b[0mrun_cell_magic\u001b[0m\u001b[0;34m(\u001b[0m\u001b[0;34m'bash'\u001b[0m\u001b[0;34m,\u001b[0m \u001b[0;34m''\u001b[0m\u001b[0;34m,\u001b[0m \u001b[0;34m'\\n###############################\\n# program options (arguments) #\\n###############################\\n\\n# There are short options start with a - and are usually a single letter,\\n# and there are long options that start with -- and are written out in full\\n# (e.g. --name=value). \\n\\n# change directory to parent to see more files\\ncd ..\\n\\n# normal ls without options as seen above\\nls\\n\\n# add blank line under the output from above\\necho  \\n\\n# short option to list all files in current working directory\\nls -p\\n\\n# add blank line under the output from above\\necho  \\n\\n# long option to list all files in current working directory (same as -a)\\nls --indicator-style=slash\\n'\u001b[0m\u001b[0;34m)\u001b[0m\u001b[0;34m\u001b[0m\u001b[0;34m\u001b[0m\u001b[0m\n\u001b[0m",
      "\u001b[0;32m/opt/anaconda3/envs/roses/lib/python3.7/site-packages/IPython/core/interactiveshell.py\u001b[0m in \u001b[0;36mrun_cell_magic\u001b[0;34m(self, magic_name, line, cell)\u001b[0m\n\u001b[1;32m   2369\u001b[0m             \u001b[0;32mwith\u001b[0m \u001b[0mself\u001b[0m\u001b[0;34m.\u001b[0m\u001b[0mbuiltin_trap\u001b[0m\u001b[0;34m:\u001b[0m\u001b[0;34m\u001b[0m\u001b[0;34m\u001b[0m\u001b[0m\n\u001b[1;32m   2370\u001b[0m                 \u001b[0margs\u001b[0m \u001b[0;34m=\u001b[0m \u001b[0;34m(\u001b[0m\u001b[0mmagic_arg_s\u001b[0m\u001b[0;34m,\u001b[0m \u001b[0mcell\u001b[0m\u001b[0;34m)\u001b[0m\u001b[0;34m\u001b[0m\u001b[0;34m\u001b[0m\u001b[0m\n\u001b[0;32m-> 2371\u001b[0;31m                 \u001b[0mresult\u001b[0m \u001b[0;34m=\u001b[0m \u001b[0mfn\u001b[0m\u001b[0;34m(\u001b[0m\u001b[0;34m*\u001b[0m\u001b[0margs\u001b[0m\u001b[0;34m,\u001b[0m \u001b[0;34m**\u001b[0m\u001b[0mkwargs\u001b[0m\u001b[0;34m)\u001b[0m\u001b[0;34m\u001b[0m\u001b[0;34m\u001b[0m\u001b[0m\n\u001b[0m\u001b[1;32m   2372\u001b[0m             \u001b[0;32mreturn\u001b[0m \u001b[0mresult\u001b[0m\u001b[0;34m\u001b[0m\u001b[0;34m\u001b[0m\u001b[0m\n\u001b[1;32m   2373\u001b[0m \u001b[0;34m\u001b[0m\u001b[0m\n",
      "\u001b[0;32m/opt/anaconda3/envs/roses/lib/python3.7/site-packages/IPython/core/magics/script.py\u001b[0m in \u001b[0;36mnamed_script_magic\u001b[0;34m(line, cell)\u001b[0m\n\u001b[1;32m    140\u001b[0m             \u001b[0;32melse\u001b[0m\u001b[0;34m:\u001b[0m\u001b[0;34m\u001b[0m\u001b[0;34m\u001b[0m\u001b[0m\n\u001b[1;32m    141\u001b[0m                 \u001b[0mline\u001b[0m \u001b[0;34m=\u001b[0m \u001b[0mscript\u001b[0m\u001b[0;34m\u001b[0m\u001b[0;34m\u001b[0m\u001b[0m\n\u001b[0;32m--> 142\u001b[0;31m             \u001b[0;32mreturn\u001b[0m \u001b[0mself\u001b[0m\u001b[0;34m.\u001b[0m\u001b[0mshebang\u001b[0m\u001b[0;34m(\u001b[0m\u001b[0mline\u001b[0m\u001b[0;34m,\u001b[0m \u001b[0mcell\u001b[0m\u001b[0;34m)\u001b[0m\u001b[0;34m\u001b[0m\u001b[0;34m\u001b[0m\u001b[0m\n\u001b[0m\u001b[1;32m    143\u001b[0m \u001b[0;34m\u001b[0m\u001b[0m\n\u001b[1;32m    144\u001b[0m         \u001b[0;31m# write a basic docstring:\u001b[0m\u001b[0;34m\u001b[0m\u001b[0;34m\u001b[0m\u001b[0;34m\u001b[0m\u001b[0m\n",
      "\u001b[0;32m<decorator-gen-110>\u001b[0m in \u001b[0;36mshebang\u001b[0;34m(self, line, cell)\u001b[0m\n",
      "\u001b[0;32m/opt/anaconda3/envs/roses/lib/python3.7/site-packages/IPython/core/magic.py\u001b[0m in \u001b[0;36m<lambda>\u001b[0;34m(f, *a, **k)\u001b[0m\n\u001b[1;32m    185\u001b[0m     \u001b[0;31m# but it's overkill for just that one bit of state.\u001b[0m\u001b[0;34m\u001b[0m\u001b[0;34m\u001b[0m\u001b[0;34m\u001b[0m\u001b[0m\n\u001b[1;32m    186\u001b[0m     \u001b[0;32mdef\u001b[0m \u001b[0mmagic_deco\u001b[0m\u001b[0;34m(\u001b[0m\u001b[0marg\u001b[0m\u001b[0;34m)\u001b[0m\u001b[0;34m:\u001b[0m\u001b[0;34m\u001b[0m\u001b[0;34m\u001b[0m\u001b[0m\n\u001b[0;32m--> 187\u001b[0;31m         \u001b[0mcall\u001b[0m \u001b[0;34m=\u001b[0m \u001b[0;32mlambda\u001b[0m \u001b[0mf\u001b[0m\u001b[0;34m,\u001b[0m \u001b[0;34m*\u001b[0m\u001b[0ma\u001b[0m\u001b[0;34m,\u001b[0m \u001b[0;34m**\u001b[0m\u001b[0mk\u001b[0m\u001b[0;34m:\u001b[0m \u001b[0mf\u001b[0m\u001b[0;34m(\u001b[0m\u001b[0;34m*\u001b[0m\u001b[0ma\u001b[0m\u001b[0;34m,\u001b[0m \u001b[0;34m**\u001b[0m\u001b[0mk\u001b[0m\u001b[0;34m)\u001b[0m\u001b[0;34m\u001b[0m\u001b[0;34m\u001b[0m\u001b[0m\n\u001b[0m\u001b[1;32m    188\u001b[0m \u001b[0;34m\u001b[0m\u001b[0m\n\u001b[1;32m    189\u001b[0m         \u001b[0;32mif\u001b[0m \u001b[0mcallable\u001b[0m\u001b[0;34m(\u001b[0m\u001b[0marg\u001b[0m\u001b[0;34m)\u001b[0m\u001b[0;34m:\u001b[0m\u001b[0;34m\u001b[0m\u001b[0;34m\u001b[0m\u001b[0m\n",
      "\u001b[0;32m/opt/anaconda3/envs/roses/lib/python3.7/site-packages/IPython/core/magics/script.py\u001b[0m in \u001b[0;36mshebang\u001b[0;34m(self, line, cell)\u001b[0m\n\u001b[1;32m    243\u001b[0m             \u001b[0msys\u001b[0m\u001b[0;34m.\u001b[0m\u001b[0mstderr\u001b[0m\u001b[0;34m.\u001b[0m\u001b[0mflush\u001b[0m\u001b[0;34m(\u001b[0m\u001b[0;34m)\u001b[0m\u001b[0;34m\u001b[0m\u001b[0;34m\u001b[0m\u001b[0m\n\u001b[1;32m    244\u001b[0m         \u001b[0;32mif\u001b[0m \u001b[0margs\u001b[0m\u001b[0;34m.\u001b[0m\u001b[0mraise_error\u001b[0m \u001b[0;32mand\u001b[0m \u001b[0mp\u001b[0m\u001b[0;34m.\u001b[0m\u001b[0mreturncode\u001b[0m\u001b[0;34m!=\u001b[0m\u001b[0;36m0\u001b[0m\u001b[0;34m:\u001b[0m\u001b[0;34m\u001b[0m\u001b[0;34m\u001b[0m\u001b[0m\n\u001b[0;32m--> 245\u001b[0;31m             \u001b[0;32mraise\u001b[0m \u001b[0mCalledProcessError\u001b[0m\u001b[0;34m(\u001b[0m\u001b[0mp\u001b[0m\u001b[0;34m.\u001b[0m\u001b[0mreturncode\u001b[0m\u001b[0;34m,\u001b[0m \u001b[0mcell\u001b[0m\u001b[0;34m,\u001b[0m \u001b[0moutput\u001b[0m\u001b[0;34m=\u001b[0m\u001b[0mout\u001b[0m\u001b[0;34m,\u001b[0m \u001b[0mstderr\u001b[0m\u001b[0;34m=\u001b[0m\u001b[0merr\u001b[0m\u001b[0;34m)\u001b[0m\u001b[0;34m\u001b[0m\u001b[0;34m\u001b[0m\u001b[0m\n\u001b[0m\u001b[1;32m    246\u001b[0m \u001b[0;34m\u001b[0m\u001b[0m\n\u001b[1;32m    247\u001b[0m     \u001b[0;32mdef\u001b[0m \u001b[0m_run_script\u001b[0m\u001b[0;34m(\u001b[0m\u001b[0mself\u001b[0m\u001b[0;34m,\u001b[0m \u001b[0mp\u001b[0m\u001b[0;34m,\u001b[0m \u001b[0mcell\u001b[0m\u001b[0;34m,\u001b[0m \u001b[0mto_close\u001b[0m\u001b[0;34m)\u001b[0m\u001b[0;34m:\u001b[0m\u001b[0;34m\u001b[0m\u001b[0;34m\u001b[0m\u001b[0m\n",
      "\u001b[0;31mCalledProcessError\u001b[0m: Command 'b'\\n###############################\\n# program options (arguments) #\\n###############################\\n\\n# There are short options start with a - and are usually a single letter,\\n# and there are long options that start with -- and are written out in full\\n# (e.g. --name=value). \\n\\n# change directory to parent to see more files\\ncd ..\\n\\n# normal ls without options as seen above\\nls\\n\\n# add blank line under the output from above\\necho  \\n\\n# short option to list all files in current working directory\\nls -p\\n\\n# add blank line under the output from above\\necho  \\n\\n# long option to list all files in current working directory (same as -a)\\nls --indicator-style=slash\\n'' returned non-zero exit status 1."
     ]
    }
   ],
   "source": [
    "%%bash\n",
    "\n",
    "###############################\n",
    "# program options (arguments) #\n",
    "###############################\n",
    "\n",
    "# There are short options start with a - and are usually a single letter,\n",
    "# and there are long options that start with -- and are written out in full\n",
    "# (e.g. --name=value). \n",
    "\n",
    "# change directory to parent to see more files\n",
    "cd ..\n",
    "\n",
    "# normal ls without options as seen above\n",
    "ls\n",
    "\n",
    "# add blank line under the output from above\n",
    "echo  \n",
    "\n",
    "# short option to list all files in current working directory\n",
    "ls -a\n",
    "\n",
    "# add blank line under the output from above\n",
    "echo  \n",
    "\n",
    "# long option to list all files in current working directory (same as -a)\n",
    "ls --all\n",
    "\n",
    "# ! # ! # ! # ! # ! # ! # ! # ! # ! # ! #\n",
    "#  why doesn't long option above work?  #\n",
    "# ! # ! # ! # ! # ! # ! # ! # ! # ! # ! #"
   ]
  },
  {
   "cell_type": "code",
   "execution_count": null,
   "metadata": {},
   "outputs": [],
   "source": []
  }
 ],
 "metadata": {
  "kernelspec": {
   "display_name": "roses",
   "language": "python",
   "name": "roses"
  },
  "language_info": {
   "codemirror_mode": {
    "name": "ipython",
    "version": 3
   },
   "file_extension": ".py",
   "mimetype": "text/x-python",
   "name": "python",
   "nbconvert_exporter": "python",
   "pygments_lexer": "ipython3",
   "version": "3.7.6"
  }
 },
 "nbformat": 4,
 "nbformat_minor": 4
}

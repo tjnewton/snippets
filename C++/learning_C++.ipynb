{
 "cells": [
  {
   "cell_type": "markdown",
   "metadata": {},
   "source": [
    "## My journey ***learning C++***, by Tyler Newton.  \n",
    "\n",
    "# warning: this is a ~ messy ~ work in progress right now\n",
    "\n",
    "This notebook runs on a C++ Jupyter kernel thanks to Xeus Cling:  \n",
    "https://github.com/jupyter-xeus/xeus-cling  \n",
    "Follow the instructions in the above repo to install the C++ Jupyter kernel.  \n",
    "\n",
    "Prerequisite knowledge:  \n",
    "1. programming fundamentals. This notebook is not the appropriate place to start for those that are complete beginners to programming -> start with Caleb Curry's C video series instead (https://youtu.be/Bz4MxDeEM6k). \n",
    "2. C fundamentals (e.g. [C/learning_C.ipynb](https://github.com/tjnewton/snippets/blob/master/C/learning_C.ipynb)). I don't cover the fundamentals of C in this C++ notebook, and the content below is confusing without knowledge of C and its quirks. I don't cover syntax, data types, operators, etc. that are shared between C and C++. \n",
    "\n",
    "The information contained below comprises my notes from learning the C++ programming language from the following resources:\n",
    "1. The course **C/C++ & Unix** at University of Oregon\n",
    "2. The book *Thinking in C++* by Bruce Eckel\n",
    "\n",
    "C++ offers features beyond those of C, like templates, overloading, inheritance, and data structures such as vectors and strings. \"C with classes\" is a succinct description of C++. The obligatory jump to \"Hello world\" in C++ follows!"
   ]
  },
  {
   "cell_type": "code",
   "execution_count": null,
   "metadata": {},
   "outputs": [],
   "source": [
    "int main() {\n",
    "    /* the line below specifies that Hello World! should be printed on \n",
    "    /  standard output followed by a newline character */\n",
    "    printf(\"Hello world!\");\n",
    "    return 0;\n",
    "}\n"
   ]
  },
  {
   "cell_type": "markdown",
   "metadata": {},
   "source": [
    "However, note that running the above cell generates no output from the Jupyter C++ kernel. The kernel does not run the main function by default, but adding `main()` to the last line of the code block above will call the main function and print `Hello world!`.\n",
    "\n",
    "This behavior maxes sandboxing easy. For example, run the cell below. We can execute code outside of the main function for testing. "
   ]
  },
  {
   "cell_type": "code",
   "execution_count": null,
   "metadata": {},
   "outputs": [],
   "source": [
    "printf(\"Hello again!\");"
   ]
  },
  {
   "cell_type": "markdown",
   "metadata": {},
   "source": [
    "There is another way to print things in C++. The syntax is interesting at first glance;"
   ]
  },
  {
   "cell_type": "code",
   "execution_count": null,
   "metadata": {},
   "outputs": [],
   "source": [
    "// iostream is included to print to a specified output\n",
    "#include <iostream>\n",
    "std::cout << \"Hi world!\" << std::endl;"
   ]
  },
  {
   "cell_type": "markdown",
   "metadata": {},
   "source": [
    "### References\n",
    "A **reference** in C++ is similar to a pointer, but it is an alias in the namespace rather than an object. In the same way that opening and editing a file via an alias makes changes to the original file, changes to an alias are changes to the variable it aliases."
   ]
  },
  {
   "cell_type": "code",
   "execution_count": null,
   "metadata": {},
   "outputs": [],
   "source": [
    "int a = 1;         // a variable\n",
    "int * a_ptr = &a;  // a pointer to the variable\n",
    "int & a_alias = a; // a reference to the variable \n",
    "\n",
    "printf(\"a: %d\\n\", a);\n",
    "printf(\"*a_ptr: %d\\n\", *a_ptr);\n",
    "printf(\"a_alias: %d\\n\\n\", a_alias); \n",
    "\n",
    "// changing a reference changes the variable\n",
    "printf(\"Now setting a_alias = 101\\n\");\n",
    "a_alias = 101;\n",
    "\n",
    "printf(\"a: %d\\n\", a);\n",
    "printf(\"*a_ptr: %d\\n\", *a_ptr);\n",
    "printf(\"a_alias: %d\\n\", a_alias); \n",
    "\n",
    "// thus it's good practice to define a reference as a constant:\n",
    "// const int &a_alias = a; "
   ]
  },
  {
   "cell_type": "markdown",
   "metadata": {},
   "source": [
    "### For++\n",
    "A range-based for loop is included in C++ which allows cleaner syntax for looping over all elements in a container. The initialization statement is optional, and is followed by a range declaration and a container to loop over. "
   ]
  },
  {
   "cell_type": "code",
   "execution_count": null,
   "metadata": {},
   "outputs": [],
   "source": [
    "// loop over an array\n",
    "int main() {\n",
    "    // define an array to work with\n",
    "    int array[] = {0, 1, 3, 5, 7, 9};\n",
    "    \n",
    "    // iterate over the elements of the array (or any container)\n",
    "    for (int i : array) {\n",
    "        // i takes the value of each element in array for each iteration\n",
    "        printf(\"array element: %d\\n\", i);\n",
    "    }\n",
    "    \n",
    "    return 0;\n",
    "}\n",
    "main()"
   ]
  },
  {
   "cell_type": "markdown",
   "metadata": {},
   "source": [
    "### Function pointers\n",
    "...\n",
    "\n",
    "### Function name overloading\n",
    "Functions in C++ are distinguished by their signatures, so the name of a function can be overloaded by defining multiple functions with the same name that take in different parameters. \n",
    "\n"
   ]
  },
  {
   "cell_type": "markdown",
   "metadata": {},
   "source": [
    "### Templates \n",
    "Templates allow operating on a container regardless of its type. \n",
    "Template declarations are preceeded by the `template` keyword, which is followed by a template argument list in angle brackets (`typename` is often used here).  \n",
    "\n",
    "#### Template functions\n",
    "Like more flexible C macros....\n",
    "\n",
    "#### Template classes\n",
    "To change containers independant of the type. "
   ]
  },
  {
   "cell_type": "markdown",
   "metadata": {},
   "source": [
    "### Input/Output\n",
    "\n",
    "- puts -> sends content to standard output stream\n",
    "- printf -> sends content to standard output stream\n",
    "\n",
    "#### Standard Template Library (STL) Classes\n",
    "Otherwise known as the source of that funky `std::` syntax. These classes are used to overload the left shift operator to send characters to the specified stream. These remind me of f-strings in Python in that it is convenient for printing across types. \n",
    "Streams of input/output: \n",
    "- **cin**: standard input (stdin)\n",
    "- **cout**: standard output (stdout)\n",
    "- **cerr**: standard error (stderr)\n",
    "- **clog**: standard logging\n",
    "\n",
    "ifstream fin  \n",
    "ofstream fout  "
   ]
  },
  {
   "cell_type": "code",
   "execution_count": null,
   "metadata": {
    "tags": []
   },
   "outputs": [],
   "source": [
    "ifstream fin(\"input_file.txt\");\n",
    "ofstream fout(\"output_file.txt\");\n",
    "\n",
    "string myString;\n",
    "while(getline(fin, s)) {\n",
    "    fout << s << endl;\n",
    "}"
   ]
  },
  {
   "cell_type": "markdown",
   "metadata": {},
   "source": [
    "### Namespace\n",
    "...\n",
    "\n",
    "The scope operator (::)"
   ]
  },
  {
   "cell_type": "code",
   "execution_count": null,
   "metadata": {},
   "outputs": [],
   "source": [
    "#include <iostream>\n",
    "\n",
    "using namespace std; // this line allows us to skip the std:: call from the previous code cell\n",
    "\n",
    "int i = 11;\n",
    "cout << \"i = \" << i << endl; // an alternative to printf and fprintf"
   ]
  },
  {
   "cell_type": "markdown",
   "metadata": {},
   "source": [
    "### Bools \n",
    "bools -> built in ..."
   ]
  },
  {
   "cell_type": "markdown",
   "metadata": {},
   "source": [
    "### Strings\n",
    "Strings -> built in ...\n",
    "\n",
    "String functions: \n",
    "- size\n",
    "- length\n",
    "- max_size\n",
    "- resize\n",
    "- capacity\n",
    "- reserve\n",
    "- clear\n",
    "- empty\n",
    "- shrink_to_fit\n",
    "- c_str\n",
    "- data\n",
    "- copy\n",
    "- find\n",
    "- rfind\n",
    "- find_first_of\n",
    "- find_last_of\n",
    "- find_first_not_of\n",
    "- find_last_not_of \n",
    "- substr\n",
    "- compare"
   ]
  },
  {
   "cell_type": "code",
   "execution_count": null,
   "metadata": {},
   "outputs": [],
   "source": [
    "// let's print a string in various ways\n",
    "#include <iostream>\n",
    "\n",
    "string fruit = \"kiwi\";\n",
    "// loop over each character in the string\n",
    "for (char c : fruit) {\n",
    "    // print out each character\n",
    "    std::cout << c;\n",
    "}\n",
    "// print out a newline character\n",
    "std::cout << endl;\n",
    "\n",
    "// loop over each character in the string again\n",
    "for (char c : fruit) {\n",
    "    // print out each character followed by a tilde\n",
    "    std::cout << c << \"~\";\n",
    "}\n",
    "std::cout << endl; // newline \n",
    "\n",
    "// print the string via std::cout <<\n",
    "std::cout << \"The string is: \" << fruit << endl;\n",
    "// print the string via printf and c_str\n",
    "printf(\"The string is: %s\\n\", fruit.c_str());"
   ]
  },
  {
   "cell_type": "markdown",
   "metadata": {},
   "source": [
    "### Vectors\n",
    "\"strings for numbers\"\n",
    "Vector class is a template"
   ]
  },
  {
   "cell_type": "markdown",
   "metadata": {},
   "source": [
    "### Types\n",
    "mention decltype  \n",
    "typedef -> using"
   ]
  },
  {
   "cell_type": "code",
   "execution_count": null,
   "metadata": {},
   "outputs": [],
   "source": [
    "// decltype deduces the type of its argument\n",
    "decltype(fruit) a = fruit;\n",
    "printf(\"The string is: %s\\n\", a.c_str());"
   ]
  },
  {
   "cell_type": "markdown",
   "metadata": {},
   "source": [
    "### Dynamic memory\n",
    "**new** & **delete** keywords, like malloc & free but operators rather than functions"
   ]
  },
  {
   "cell_type": "markdown",
   "metadata": {},
   "source": [
    "### Structs and Classes\n",
    "C++ introduces classes, the building blocks of OOP. Structs and classes are similar objects in C++, however a class contains additional default privacy boundaries to limit the scope of its members. In C++ structs can contain functions and static variables, thus classes can be built from structs. Keep in mind that members of a struct are public by default. \n",
    "\n",
    "Class access boundaries:\n",
    "- Public: every object can utilize public scope\n",
    "- Private: a compile time error is generated if accessed directly\n",
    "- Protected: like private but accessible by inheriting class\n",
    "\n",
    "Member access using .  \n",
    "\n",
    "#### Class constructors  \n",
    "A constructor automatically initializes variables when an object is first created. Constructors can be overloaded like in Python. \n",
    "\n",
    "#### Initializer lists\n",
    "xyz ...\n",
    "\n",
    "#### Friend\n",
    "Declaring an object as a **friend** to another object grants it access to that objects members, including private members. This feature allows object oriented programming without C++ being a pure object oriented language. \n",
    "\n",
    "#### Class destructors\n",
    "Destructors are used for cleanup and they take no arguments. Like constructors they are called by the name of the class, however destructors are preceeded by a tilde (~).  \n"
   ]
  },
  {
   "cell_type": "code",
   "execution_count": null,
   "metadata": {},
   "outputs": [],
   "source": []
  },
  {
   "cell_type": "markdown",
   "metadata": {},
   "source": [
    "CV Qualifiers:  \n",
    "- const: read only, value can not be changed\n",
    "- mutable: make writable\n",
    "- volatile: notes that variable may be changed by another process\n",
    "\n",
    "Storage Duration Qualifiers:\n",
    "- static: keeps variable alive beyond execution of a block\n",
    "- register: store variable in processor register (suggestion to compiler)\n",
    "- extern: specifies external linkage to linker\n"
   ]
  },
  {
   "cell_type": "code",
   "execution_count": 12,
   "metadata": {},
   "outputs": [
    {
     "name": "stderr",
     "output_type": "stream",
     "text": [
      "\u001b[1minput_line_29:15:24: \u001b[0m\u001b[0;1;31merror: \u001b[0m\u001b[1mfunction definition is not allowed here\u001b[0m\n",
      " int Pizza::getvalue() {\n",
      "\u001b[0;1;32m                       ^\n",
      "\u001b[0m\u001b[1minput_line_29:18:12: \u001b[0m\u001b[0;1;31merror: \u001b[0m\u001b[1mfunction definition is not allowed here\u001b[0m\n",
      "int main() {\n",
      "\u001b[0;1;32m           ^\n",
      "\u001b[0m"
     ]
    },
    {
     "ename": "Interpreter Error",
     "evalue": "",
     "output_type": "error",
     "traceback": [
      "Interpreter Error: "
     ]
    }
   ],
   "source": [
    "#include <cstdio>\n",
    "// this defines a class called Pizza\n",
    "class Pizza {\n",
    "    // define a default size\n",
    "    int size = 18;\n",
    "    \n",
    "public:\n",
    "    // the setvalue function is delcared and \n",
    "    void setvalue( int value ) { size = value; }\n",
    "    // the getvalue function is only \n",
    "    int getvalue();\n",
    "};\n",
    "\n",
    "// it's best practice to separate the implementation from from interface,\n",
    "// so this is how to define a function outside of the class interface\n",
    "// using the :: syntax\n",
    "int Pizza::getvalue() {\n",
    "    return size;\n",
    "}\n",
    "\n",
    "int main() {\n",
    "    // select desired pizza size in inches\n",
    "    int size = 12;\n",
    "    // initialize a Pizza object\n",
    "    Pizza myPizzaObject;\n",
    "    // set pizza size\n",
    "    myPizzaObject.setvalue(size);\n",
    "    // print the pizza's size\n",
    "    printf(\"You requested a %d-inch pizza :)\\n\", myPizzaObject.getvalue());\n",
    "        \n",
    "    return 0;\n",
    "}"
   ]
  },
  {
   "cell_type": "markdown",
   "metadata": {},
   "source": [
    "# C++ programming sandbox for testing:"
   ]
  },
  {
   "cell_type": "code",
   "execution_count": null,
   "metadata": {},
   "outputs": [],
   "source": [
    "#include <stdio.h> /* give access to printf to print to standard output */ \n",
    "#include <stdlib.h> /* gives access to EXIT_SUCCESS */\n",
    "\n",
    "int main(int argc, char *argv[]) { /* main is required */\n",
    "    char *filenames[1] = {\"-\"};\n",
    "    printf(\"%s\\n\", filenames[1]); \n",
    "    return EXIT_SUCCESS;\n",
    "}"
   ]
  },
  {
   "cell_type": "code",
   "execution_count": null,
   "metadata": {},
   "outputs": [],
   "source": [
    "char s[] = \"123456789\";\n",
    "long l;\n",
    "\n",
    "sscanf(s+2, \"%ld\", &l);\n",
    "printf(\"%ld\\n\", 1);"
   ]
  },
  {
   "cell_type": "code",
   "execution_count": null,
   "metadata": {},
   "outputs": [],
   "source": []
  },
  {
   "cell_type": "code",
   "execution_count": null,
   "metadata": {},
   "outputs": [],
   "source": []
  },
  {
   "cell_type": "code",
   "execution_count": null,
   "metadata": {},
   "outputs": [],
   "source": []
  }
 ],
 "metadata": {
  "kernelspec": {
   "display_name": "C++11",
   "language": "C++11",
   "name": "xcpp11"
  },
  "language_info": {
   "codemirror_mode": "text/x-c++src",
   "file_extension": ".cpp",
   "mimetype": "text/x-c++src",
   "name": "c++",
   "version": "11"
  }
 },
 "nbformat": 4,
 "nbformat_minor": 4
}

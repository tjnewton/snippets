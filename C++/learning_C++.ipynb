{
 "cells": [
  {
   "cell_type": "markdown",
   "metadata": {},
   "source": [
    "## My journey ***learning C++***, by Tyler Newton.  \n",
    "\n",
    "# warning: this is a ~ messy ~ work in progress right now\n",
    "\n",
    "This notebook runs on a C++ Jupyter kernel thanks to Xeus Cling:  \n",
    "https://github.com/jupyter-xeus/xeus-cling  \n",
    "Follow the instructions in the above repo to install the C++ Jupyter kernel.  \n",
    "\n",
    "Prerequisite knowledge:  \n",
    "1. programming fundamentals. This notebook is not the appropriate place to start for those that are complete beginners to programming -> start with Caleb Curry's C video series instead (https://youtu.be/Bz4MxDeEM6k). \n",
    "2. C fundamentals (e.g. [C/learning_C.ipynb](https://github.com/tjnewton/snippets/blob/master/C/learning_C.ipynb)). I don't cover the fundamentals of C in this C++ notebook, and the content below is confusing without knowledge of C and its quirks.\n",
    "\n",
    "The information contained below comprises my notes from learning the C++ programming language from the following resources:\n",
    "1. The course **C/C++ & Unix** at University of Oregon\n",
    "2. The book *Thinking in C++* by Bruce Eckel. \n",
    "\n",
    "C++ offers features beyond those of C, like templates, overloading, inheritance, and data structures such as vectors and strings. \"C with classes\" is a succinct description of C++. The obligatory jump to \"Hello world\" in C++ follows!"
   ]
  },
  {
   "cell_type": "code",
   "execution_count": 5,
   "metadata": {},
   "outputs": [],
   "source": [
    "int main() {\n",
    "    /* the line below specifies that Hello World! should be printed on \n",
    "    /  standard output followed by a newline character */\n",
    "    printf(\"Hello world!\");\n",
    "    return 0;\n",
    "}\n"
   ]
  },
  {
   "cell_type": "markdown",
   "metadata": {},
   "source": [
    "However, note that running the above cell generates no output from the Jupyter C++ kernel. The kernel does not run the main function by default, but adding `main()` to the last line of the code block above will call the main function and print `Hello world!`.\n",
    "\n",
    "This behavior maxes sandboxing easy. For example, run the cell below. We can execute code outside of the main function for testing. "
   ]
  },
  {
   "cell_type": "code",
   "execution_count": 9,
   "metadata": {},
   "outputs": [
    {
     "name": "stdout",
     "output_type": "stream",
     "text": [
      "Hello again!"
     ]
    }
   ],
   "source": [
    "printf(\"Hello again!\");"
   ]
  },
  {
   "cell_type": "markdown",
   "metadata": {},
   "source": [
    "There is another way to print things in C++. The syntax is interesting at first glance;"
   ]
  },
  {
   "cell_type": "code",
   "execution_count": 10,
   "metadata": {},
   "outputs": [
    {
     "name": "stdout",
     "output_type": "stream",
     "text": [
      "Hi world!\n"
     ]
    }
   ],
   "source": [
    "// iostream is included to print to a specified output\n",
    "#include <iostream>\n",
    "std::cout << \"Hi world!\" << std::endl;"
   ]
  },
  {
   "cell_type": "markdown",
   "metadata": {},
   "source": [
    "### References\n",
    "A **reference** in C++ is similar to a pointer, but it is an alias in the namespace rather than an object. In the same way that opening and editing a file via an alias makes changes to the original file, changes to an alias are changes to the variable it aliases."
   ]
  },
  {
   "cell_type": "code",
   "execution_count": 21,
   "metadata": {},
   "outputs": [
    {
     "name": "stdout",
     "output_type": "stream",
     "text": [
      "a: 1\n",
      "*a_ptr: 1\n",
      "a_alias: 1\n",
      "\n",
      "Now setting a_alias = 101\n",
      "a: 101\n",
      "*a_ptr: 101\n",
      "a_alias: 101\n"
     ]
    }
   ],
   "source": [
    "int a = 1;         // a variable\n",
    "int * a_ptr = &a;  // a pointer to the variable\n",
    "int & a_alias = a; // a reference to the variable \n",
    "\n",
    "printf(\"a: %d\\n\", a);\n",
    "printf(\"*a_ptr: %d\\n\", *a_ptr);\n",
    "printf(\"a_alias: %d\\n\\n\", a_alias); \n",
    "\n",
    "// changing a reference changes the variable\n",
    "printf(\"Now setting a_alias = 101\\n\");\n",
    "a_alias = 101;\n",
    "\n",
    "printf(\"a: %d\\n\", a);\n",
    "printf(\"*a_ptr: %d\\n\", *a_ptr);\n",
    "printf(\"a_alias: %d\\n\", a_alias); \n",
    "\n",
    "// thus it's good practice to define a reference as a constant:\n",
    "// const int &a_alias = a; "
   ]
  },
  {
   "cell_type": "markdown",
   "metadata": {},
   "source": [
    "### Input/Output\n",
    "Streams of input/output: \n",
    "- **cin**: standard input (stdin)\n",
    "- **cout**: standard output (stdout)\n",
    "- **cerr**: standard error (stderr)\n",
    "- **clog**: standard logging\n",
    "\n",
    "ifstream fin  \n",
    "ofstream fout  "
   ]
  },
  {
   "cell_type": "code",
   "execution_count": null,
   "metadata": {
    "tags": []
   },
   "outputs": [],
   "source": [
    "ifstream fin(\"input_file.txt\");\n",
    "ofstream fout(\"output_file.txt\");\n",
    "\n",
    "string myString;\n",
    "while(getline(fin, s)) {\n",
    "    fout << s << endl;\n",
    "}"
   ]
  },
  {
   "cell_type": "markdown",
   "metadata": {},
   "source": [
    "### Namespace\n",
    "...\n",
    "\n",
    "The scope operator (::)"
   ]
  },
  {
   "cell_type": "code",
   "execution_count": null,
   "metadata": {},
   "outputs": [],
   "source": [
    "#include <iostream>\n",
    "\n",
    "using namespace std; // this line allows us to skip the std:: call from the previous code cell\n",
    "\n",
    "int i = 11;\n",
    "cout << \"i = \" << i << endl; // an alternative to printf and fprintf"
   ]
  },
  {
   "cell_type": "markdown",
   "metadata": {},
   "source": [
    "### Bools \n",
    "bools -> built in ..."
   ]
  },
  {
   "cell_type": "markdown",
   "metadata": {},
   "source": [
    "### Strings\n",
    "Strings -> built in ...\n",
    "\n",
    "String functions: \n",
    "- size\n",
    "- length\n",
    "- max_size\n",
    "- resize\n",
    "- capacity\n",
    "- reserve\n",
    "- clear\n",
    "- empty\n",
    "- shrink_to_fit\n",
    "- c_str\n",
    "- data\n",
    "- copy\n",
    "- find\n",
    "- rfind\n",
    "- find_first_of\n",
    "- find_last_of\n",
    "- find_first_not_of\n",
    "- find_last_not_of \n",
    "- substr\n",
    "- compare"
   ]
  },
  {
   "cell_type": "code",
   "execution_count": null,
   "metadata": {},
   "outputs": [],
   "source": [
    "// let's print a string in various ways\n",
    "#include <iostream>\n",
    "\n",
    "string fruit = \"kiwi\";\n",
    "// loop over each character in the string\n",
    "for (char c : fruit) {\n",
    "    // print out each character\n",
    "    std::cout << c;\n",
    "}\n",
    "// print out a newline character\n",
    "std::cout << endl;\n",
    "\n",
    "// loop over each character in the string again\n",
    "for (char c : fruit) {\n",
    "    // print out each character followed by a tilde\n",
    "    std::cout << c << \"~\";\n",
    "}\n",
    "std::cout << endl; // newline \n",
    "\n",
    "// print the string via std::cout <<\n",
    "std::cout << \"The string is: \" << fruit << endl;\n",
    "// print the string via printf and c_str\n",
    "printf(\"The string is: %s\\n\", fruit.c_str());"
   ]
  },
  {
   "cell_type": "markdown",
   "metadata": {},
   "source": [
    "### Vectors\n",
    "\"strings for numbers\"\n",
    "Vector class is a template"
   ]
  },
  {
   "cell_type": "markdown",
   "metadata": {},
   "source": [
    "### Types\n",
    "mention decltype  \n",
    "typedef -> using"
   ]
  },
  {
   "cell_type": "code",
   "execution_count": null,
   "metadata": {},
   "outputs": [],
   "source": [
    "// decltype deduces the type of its argument\n",
    "decltype(fruit) a = fruit;\n",
    "printf(\"The string is: %s\\n\", a.c_str());"
   ]
  },
  {
   "cell_type": "markdown",
   "metadata": {},
   "source": [
    "### Dynamic memory\n",
    "**new** & **delete** keywords, like malloc & free but operators rather than functions"
   ]
  },
  {
   "cell_type": "markdown",
   "metadata": {},
   "source": [
    "### Structs and Classes\n",
    "Structs and classes are similar in C++, however a class contains additional default privacy boundaries to limit the scope of its members. In C++ structs can have functions and static variables, thus classes can be built from structs, however keep in mind that members of a struct are public by default. \n",
    "\n",
    "Class access boundaries:\n",
    "- Public: every object can utilize public scope\n",
    "- Private: a compile time error is generated if accessed directly\n",
    "- Protected: like private but accessible by inheriting class\n",
    "\n",
    "Member access using .  \n",
    "\n",
    "#### Class constructors  \n",
    "A constructor automatically initializes variables when an object is first created. Constructors can be overloaded like in Python. \n",
    "\n",
    "#### Friend\n",
    "Declaring an object as a **friend** to another object grants it access to that objects members, including private members. This feature allows object oriented programming without C++ being a pure object oriented language. \n",
    "\n",
    "#### Class destructors\n",
    "Destructors are used for cleanup and they take no arguments.   "
   ]
  },
  {
   "cell_type": "markdown",
   "metadata": {},
   "source": [
    "# C++ programming sandbox for testing:"
   ]
  },
  {
   "cell_type": "code",
   "execution_count": null,
   "metadata": {},
   "outputs": [],
   "source": [
    "#include <stdio.h> /* give access to printf to print to standard output */ \n",
    "#include <stdlib.h> /* gives access to EXIT_SUCCESS */\n",
    "\n",
    "int main(int argc, char *argv[]) { /* main is required */\n",
    "    char *filenames[1] = {\"-\"};\n",
    "    printf(\"%s\\n\", filenames[1]); \n",
    "    return EXIT_SUCCESS;\n",
    "}"
   ]
  },
  {
   "cell_type": "code",
   "execution_count": null,
   "metadata": {},
   "outputs": [],
   "source": [
    "char s[] = \"123456789\";\n",
    "long l;\n",
    "\n",
    "sscanf(s+2, \"%ld\", &l);\n",
    "printf(\"%ld\\n\", 1);"
   ]
  },
  {
   "cell_type": "code",
   "execution_count": null,
   "metadata": {},
   "outputs": [],
   "source": []
  },
  {
   "cell_type": "code",
   "execution_count": null,
   "metadata": {},
   "outputs": [],
   "source": []
  },
  {
   "cell_type": "code",
   "execution_count": null,
   "metadata": {},
   "outputs": [],
   "source": []
  }
 ],
 "metadata": {
  "kernelspec": {
   "display_name": "C++11",
   "language": "C++11",
   "name": "xcpp11"
  },
  "language_info": {
   "codemirror_mode": "text/x-c++src",
   "file_extension": ".cpp",
   "mimetype": "text/x-c++src",
   "name": "c++",
   "version": "11"
  }
 },
 "nbformat": 4,
 "nbformat_minor": 4
}

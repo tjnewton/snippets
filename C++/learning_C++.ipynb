{
 "cells": [
  {
   "cell_type": "markdown",
   "metadata": {},
   "source": [
    "## My journey ***learning C++***, by Tyler Newton.  \n",
    "\n",
    "This notebook runs on a C++ Jupyter kernel thanks to Xeus Cling:  \n",
    "https://github.com/jupyter-xeus/xeus-cling  \n",
    "Follow the instructions in the above repo to install the C++ Jupyter kernel.  \n",
    "\n",
    "Prerequisite knowledge:  \n",
    "1. bash and shell scripting ([bash/bash_fundamentals.ipynb](https://github.com/tjnewton/snippets/blob/master/bash/bash_fundamentals.ipynb))  \n",
    "2. programming fundamentals. This notebook is not the appropriate place to start for those that are complete beginners to programming -> start with Caleb Curry's video series instead (https://youtu.be/Bz4MxDeEM6k). \n",
    "3. C fundamentals ([C/learning_C.ipynb](https://github.com/tjnewton/snippets/blob/master/C/learning_C.ipynb))\n",
    "\n",
    "The information contained below comprises my notes from learning the C++ programming language from the following resources:\n",
    "1. xyz\n",
    "\n",
    "The obligatory jump to \"Hello world\" in C follows BUT do not worry about understanding every detail of this program yet. The skills to thoroughly understand C programs are built gradually throughout this notebook. The main thing to keep in mind is that users must manage their own memory in C, as there is no garbage collection, which is the source of most bugs in C. Start the C journey with the knowledge that single line comments start with `//` and multi-line comments start with `/*` and end with `*/`. "
   ]
  },
  {
   "cell_type": "code",
   "execution_count": 2,
   "metadata": {},
   "outputs": [
    {
     "name": "stdout",
     "output_type": "stream",
     "text": [
      "Hello world!\n"
     ]
    }
   ],
   "source": [
    "#include <stdio.h> /* give access to printf to print to standard output */ \n",
    "#include <stdlib.h> /* gives access to EXIT_SUCCESS */\n",
    "// think of the #include statements above as being similar to Python imports for now\n",
    "\n",
    "/* this is a comment that\n",
    "can span multiple lines */\n",
    "    \n",
    "// this is a single line comment\n",
    "\n",
    "int main(int argc, char *argv[]) { /* main is a required function */\n",
    "    printf(\"Hello world!\\n\"); \n",
    "    return EXIT_SUCCESS;\n",
    "/* print \"Hello world!\" on standard output using printf*/\n",
    "/* EXIT_SUCCESS indicates successful execution of program */\n",
    "/* notice the curly braces */\n",
    "}"
   ]
  },
  {
   "cell_type": "markdown",
   "metadata": {},
   "source": [
    "# FIXME: change to CPP\n",
    "\n",
    "### A **prelude** dedicated to confusion  \n",
    "The bulk of my confusion while learning C was due to my lack of understanding regarding the scope of variables, and how that relates to header files, pointers and their utility. Inside of a C function, the function only has access to:\n",
    "1. the variables defined **inside** of the function\n",
    "2. and C provides access to **copies** of the variables passed into the function\n",
    "\n",
    "The exception to this is that you can declare certain types of global variables that are available to all functions in that file, as discussed later, but 1 and 2 above are important. If you work with large datas sets you may realize that a function making a copy of that data just to read it could lead to running out of memory. Since we want to continue to use functions for good programming etiquite (and fewer headaches) the solution to this is pointers. If pointers didn't exist, users of C would hack this by creating long main() functions (the mandatory function in C programs) without abstraction, which is far from ideal. Pointers are a concept I was not familiar with before learning C, but they are a really neat feature of C and I would have learned to appreciate them sooner given the information above. Pointers represent the memory address of a variable rather than the contents of that location in memory (or the value of the variable). Pointers can be *dereferenced* to access the contents of that location in memory, or the stored value. This means that pointers can be passed to functions, and functions can utilize dereferencing to access or change the values of data without having to make a copy of that data in memory. These concepts are called **pass by copy (or value)** and **pass by reference (or address)**, and are discussed in more detail later. C assumes that this type of behavior should always happen for the data type **array**, so calls to arrays always yield a pointer to the array. Outside of computational science with large data sets, pointers, dereferencing, and variable scopes have implications for data access and privacy concerns in software. \n",
    "\n",
    "The rest of this notebook wanders through the fundamentals and various aspects of C, building on example programs of increasing complexity and the information necessary to understand them. I recommend tinkering with the code, figuring out how to break it, then figuring out how to fix it. "
   ]
  },
  {
   "cell_type": "markdown",
   "metadata": {},
   "source": [
    "### The mechanics of C  \n",
    "C is not interpreted like Python. C programs follow the edit-compile-link-execute (ECLE) cycle.  \n",
    "1. edit (or generate) program source files\n",
    "2. compile source files into object files (binary representations)\n",
    "3. link object files and necessary system libraries\n",
    "4. execute the program file\n",
    "\n",
    "### Compiling and linking\n",
    "C source files are compiled into object files which contain:\n",
    "1. global names defined in the source file (either global variables or functions)\n",
    "2. function and variable names that weren't resolved in the source file\n",
    "3. machine instructions to implement the statements in the source file  \n",
    "\n",
    "The linker follows the following steps:  \n",
    "1. first attempts to match unresolved global names between all specified object files\n",
    "2. then attempts to find remaining unresolved global names in libraries\n",
    "3. if unresolved global names still exist error messages are primted. if all global names are resolved an executable image is written.\n",
    "\n",
    "gcc is the name of the C compiler and linker on Linux. To compile a source file titled program.c into a binary object file titled program.o use `gcc -c program.c`. The -c flag makes gcc only compile (not link). To link the object file into an executable program titled program use `gcc -o program program.o`, then execute the file using `./program`. Simple programs can be compiled and linked with one call to gcc using `gcc -o program program.c`. This command causes gcc to first compile the .c file to an object file, then link that object file into an executable program, and finally delete the object file.  \n",
    "\n",
    "gcc will report errors to standard error output. When learning C use the -W and -Wall flags with gcc to report poor programming practices, e.g. `gcc -c -W -Wall program.c`."
   ]
  },
  {
   "cell_type": "markdown",
   "metadata": {},
   "source": [
    "### The beauty of a C kernel\n",
    "\n",
    "It's now appropriate to discuss the beauty of a C kernel, or the magic behind how you were able to execute the hello world script above without knowing about gcc. C programs need to be compiled and linked to produce an executable file that can then be run. A C kernel allows rapid iteration of programs, which I find to be particularly useful when learning a language. Just run the cell and the C kernel takes care of the rest. \n",
    "\n",
    "### The limitations of a C kernel  \n",
    "\n",
    "If you compile the above hello world program using `gcc -W -Wall -o hello hello.c` you will see errors about the unused arguments argc and argv and the executable will still be produced. **main()** takes two parameters, **argc** and **argv**, which we didn't use in the above program so the -W and -Wall flags generate these warnings. To be a courteous and less error-prone developer use the **UNUSED** attribute to indicate that parameters or variables are unused on purpose. To do this, replace the line `int main(int argc, char *argv[]) {` with the two lines:  \n",
    "```\n",
    "#define UNUSED __attribute__((unused))\n",
    "int main(UNUSED int argc, UNUSED char *argv[]) {\n",
    "```\n",
    "\n",
    "When finished editing, compile it, link it, and execute it, then bask in your errorless glory. This exercise demonstrates how only using the C kernel to learn C is a bad idea. I learned using VirtualBox (free) and ArchLinux (free) while taking notes in a notebook with a C kernel. Highly reccommend 10/10 would box & kernel again, but do not rely only on the C kernel. "
   ]
  },
  {
   "cell_type": "markdown",
   "metadata": {},
   "source": [
    "### main(int argc, char *argv[])\n",
    "My first reaction to the hello world script was \"why do we need a function and why does it appear to be an int?\"\n",
    "The linker requires a function named *main* that returns an integer.\n",
    "Its return values are either **EXIT_SUCCESS** or **EXIT_FAILURE**, defined in **<stdlib.h>**. \n",
    "\n",
    "### argv[] and argc\n",
    "The arguments that bash collects upon invocation of a program are available from within the program through the argv argument to main. *argc* is the number of arguments stored in *argv[]*.\n",
    "\n",
    "The program below returns the arguments given to it, each on a new line. Once again don't expect to fully understand every line of this program yet. "
   ]
  },
  {
   "cell_type": "code",
   "execution_count": 3,
   "metadata": {},
   "outputs": [
    {
     "name": "stdout",
     "output_type": "stream",
     "text": [
      "argv[0] = \"/var/folders/f_/jj0zyry97dj_lg5tkxr_d8w00000gn/T/tmpjsgvxhe8.out\"\n"
     ]
    }
   ],
   "source": [
    "#include <stdio.h> /* scroll right, long comment on this one */\n",
    "#include <stdlib.h> \n",
    "int main(int argc, char *argv[]) { \n",
    "    int index; /* loop variable named index to loop over argument strings */\n",
    "    for (index = 0; index < argc; index++) /* loop over strings in argv and increment index variable on each iteration */\n",
    "        printf(\"argv[%d] = \\\"%s\\\"\\n\", index, argv[index]); /* print argv[index] = argument, %d indicates that argument (index) should be a decimal integer, %s indicates argv[index] is a character string, and \\ escapes the \" so it is printed */\n",
    "    return EXIT_SUCCESS; /* indicate successful execution */\n",
    "}   /* the end of program */"
   ]
  },
  {
   "cell_type": "markdown",
   "metadata": {},
   "source": [
    "# C++ programming sandbox for testing:"
   ]
  },
  {
   "cell_type": "code",
   "execution_count": 3,
   "metadata": {},
   "outputs": [
    {
     "name": "stderr",
     "output_type": "stream",
     "text": [
      "/var/folders/f_/jj0zyry97dj_lg5tkxr_d8w00000gn/T/tmp2g79bep4.c:6:20: warning: array index 1 is past the end of the array (which contains 1 element) [-Warray-bounds]\n",
      "    printf(\"%s\\n\", filenames[1]); \n",
      "                   ^         ~\n",
      "/var/folders/f_/jj0zyry97dj_lg5tkxr_d8w00000gn/T/tmp2g79bep4.c:5:5: note: array 'filenames' declared here\n",
      "    char *filenames[1] = {\"-\"};\n",
      "    ^\n",
      "1 warning generated.\n",
      "[C kernel] Executable exited with code -11"
     ]
    }
   ],
   "source": [
    "#include <stdio.h> /* give access to printf to print to standard output */ \n",
    "#include <stdlib.h> /* gives access to EXIT_SUCCESS */\n",
    "\n",
    "int main(int argc, char *argv[]) { /* main is required */\n",
    "    char *filenames[1] = {\"-\"};\n",
    "    printf(\"%s\\n\", filenames[1]); \n",
    "    return EXIT_SUCCESS;\n",
    "}"
   ]
  },
  {
   "cell_type": "code",
   "execution_count": 1,
   "metadata": {},
   "outputs": [
    {
     "name": "stderr",
     "output_type": "stream",
     "text": [
      "/var/folders/f_/jj0zyry97dj_lg5tkxr_d8w00000gn/T/tmp8efcwyoo.c:4:8: error: unknown type name 's'\n",
      "sscanf(s+2, \"%ld\", &l);\n",
      "       ^\n",
      "/var/folders/f_/jj0zyry97dj_lg5tkxr_d8w00000gn/T/tmp8efcwyoo.c:4:9: error: expected ')'\n",
      "sscanf(s+2, \"%ld\", &l);\n",
      "        ^\n",
      "/var/folders/f_/jj0zyry97dj_lg5tkxr_d8w00000gn/T/tmp8efcwyoo.c:4:7: note: to match this '('\n",
      "sscanf(s+2, \"%ld\", &l);\n",
      "      ^\n",
      "/var/folders/f_/jj0zyry97dj_lg5tkxr_d8w00000gn/T/tmp8efcwyoo.c:4:1: warning: type specifier missing, defaults to 'int' [-Wimplicit-int]\n",
      "sscanf(s+2, \"%ld\", &l);\n",
      "^\n",
      "/var/folders/f_/jj0zyry97dj_lg5tkxr_d8w00000gn/T/tmp8efcwyoo.c:5:8: error: expected parameter declarator\n",
      "printf(\"%ld\\n\", 1);\n",
      "       ^\n",
      "/var/folders/f_/jj0zyry97dj_lg5tkxr_d8w00000gn/T/tmp8efcwyoo.c:5:8: error: expected ')'\n",
      "/var/folders/f_/jj0zyry97dj_lg5tkxr_d8w00000gn/T/tmp8efcwyoo.c:5:7: note: to match this '('\n",
      "printf(\"%ld\\n\", 1);\n",
      "      ^\n",
      "/var/folders/f_/jj0zyry97dj_lg5tkxr_d8w00000gn/T/tmp8efcwyoo.c:5:1: warning: type specifier missing, defaults to 'int' [-Wimplicit-int]\n",
      "printf(\"%ld\\n\", 1);\n",
      "^\n",
      "/var/folders/f_/jj0zyry97dj_lg5tkxr_d8w00000gn/T/tmp8efcwyoo.c:5:1: warning: incompatible redeclaration of library function 'printf' [-Wincompatible-library-redeclaration]\n",
      "/var/folders/f_/jj0zyry97dj_lg5tkxr_d8w00000gn/T/tmp8efcwyoo.c:5:1: note: 'printf' is a builtin with type 'int (const char *, ...)'\n",
      "3 warnings and 4 errors generated.\n",
      "[C kernel] GCC exited with code 1, the executable will not be executed"
     ]
    }
   ],
   "source": [
    "char s[] = \"123456789\";\n",
    "long l;\n",
    "\n",
    "sscanf(s+2, \"%ld\", &l);\n",
    "printf(\"%ld\\n\", 1);"
   ]
  },
  {
   "cell_type": "code",
   "execution_count": null,
   "metadata": {},
   "outputs": [],
   "source": []
  }
 ],
 "metadata": {
  "kernelspec": {
   "display_name": "C",
   "language": "c",
   "name": "c"
  },
  "language_info": {
   "file_extension": ".c",
   "mimetype": "text/plain",
   "name": "c"
  }
 },
 "nbformat": 4,
 "nbformat_minor": 4
}

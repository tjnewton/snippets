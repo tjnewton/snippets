{
 "cells": [
  {
   "cell_type": "markdown",
   "metadata": {},
   "source": [
    "## My journey ***learning C++***, by Tyler Newton.  \n",
    "\n",
    "This notebook runs on a C++ Jupyter kernel thanks to Xeus Cling:  \n",
    "https://github.com/jupyter-xeus/xeus-cling  \n",
    "Follow the instructions in the above repo to install the C++ Jupyter kernel.  \n",
    "\n",
    "Prerequisite knowledge:  \n",
    "1. programming fundamentals. This notebook is not the appropriate place to start for those that are complete beginners to programming -> start with Caleb Curry's C video series instead (https://youtu.be/Bz4MxDeEM6k). \n",
    "2. C fundamentals ([C/learning_C.ipynb](https://github.com/tjnewton/snippets/blob/master/C/learning_C.ipynb))\n",
    "\n",
    "The information contained below comprises my notes from learning the C++ programming language from the following resources:\n",
    "1. The course **C/C++ & Unix** at University of Oregon\n",
    "2. The book *Thinking in C++* by Bruce Eckel. \n",
    "\n",
    "The obligatory jump to \"Hello world\" in C++ follows!"
   ]
  },
  {
   "cell_type": "code",
   "execution_count": 5,
   "metadata": {},
   "outputs": [
    {
     "name": "stdout",
     "output_type": "stream",
     "text": [
      "Hello world!\n"
     ]
    }
   ],
   "source": [
    "// iostream is included to print\n",
    "#include <iostream>\n",
    "\n",
    "/* the line below specifies that Hello World! should be printed on \n",
    "/  standard output followed by a newline character */\n",
    "std::cout << \"Hello world!\" << std::endl;"
   ]
  },
  {
   "cell_type": "markdown",
   "metadata": {},
   "source": [
    "### Input/Output\n",
    "xyz \n",
    "- **cin**: standard input (stdin)\n",
    "- **cout**: standard output (stdout)\n",
    "- **cerr**: standard error (stderr)\n",
    "- **clog**: standard logging\n",
    "\n",
    "\n",
    "### Namespace\n",
    "123"
   ]
  },
  {
   "cell_type": "code",
   "execution_count": 2,
   "metadata": {},
   "outputs": [
    {
     "name": "stdout",
     "output_type": "stream",
     "text": [
      "Heyo\n"
     ]
    }
   ],
   "source": [
    "#include <iostream>\n",
    "using namespace std;\n",
    "cout << \"Heyo\" << endl;"
   ]
  },
  {
   "cell_type": "markdown",
   "metadata": {},
   "source": [
    "# C++ programming sandbox for testing:"
   ]
  },
  {
   "cell_type": "code",
   "execution_count": null,
   "metadata": {},
   "outputs": [],
   "source": [
    "#include <stdio.h> /* give access to printf to print to standard output */ \n",
    "#include <stdlib.h> /* gives access to EXIT_SUCCESS */\n",
    "\n",
    "int main(int argc, char *argv[]) { /* main is required */\n",
    "    char *filenames[1] = {\"-\"};\n",
    "    printf(\"%s\\n\", filenames[1]); \n",
    "    return EXIT_SUCCESS;\n",
    "}"
   ]
  },
  {
   "cell_type": "code",
   "execution_count": null,
   "metadata": {},
   "outputs": [],
   "source": [
    "char s[] = \"123456789\";\n",
    "long l;\n",
    "\n",
    "sscanf(s+2, \"%ld\", &l);\n",
    "printf(\"%ld\\n\", 1);"
   ]
  },
  {
   "cell_type": "code",
   "execution_count": null,
   "metadata": {},
   "outputs": [],
   "source": []
  }
 ],
 "metadata": {
  "kernelspec": {
   "display_name": "C++11",
   "language": "C++11",
   "name": "xcpp11"
  },
  "language_info": {
   "codemirror_mode": "text/x-c++src",
   "file_extension": ".cpp",
   "mimetype": "text/x-c++src",
   "name": "c++",
   "version": "11"
  }
 },
 "nbformat": 4,
 "nbformat_minor": 4
}

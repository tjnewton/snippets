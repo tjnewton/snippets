{
 "cells": [
  {
   "cell_type": "markdown",
   "metadata": {},
   "source": [
    "## My journey ***learning C++***, by Tyler Newton.  \n",
    "\n",
    "# this is a ~ messy ~ work in progress right now : ~ beware ~\n",
    "\n",
    "This notebook runs on a C++ Jupyter kernel thanks to Xeus Cling:  \n",
    "https://github.com/jupyter-xeus/xeus-cling  \n",
    "Follow the instructions in the above repo to install the C++ Jupyter kernel.  \n",
    "\n",
    "Prerequisite knowledge:  \n",
    "1. programming fundamentals. This notebook is not the appropriate place to start for those that are complete beginners to programming -> start with Caleb Curry's C video series instead (https://youtu.be/Bz4MxDeEM6k). \n",
    "2. C fundamentals ([C/learning_C.ipynb](https://github.com/tjnewton/snippets/blob/master/C/learning_C.ipynb))\n",
    "\n",
    "The information contained below comprises my notes from learning the C++ programming language from the following resources:\n",
    "1. The course **C/C++ & Unix** at University of Oregon\n",
    "2. The book *Thinking in C++* by Bruce Eckel. \n",
    "\n",
    "C++ offers features beyond those of C, like templates, overloading, inheritance, and data structures such as vectors and strings. The obligatory jump to \"Hello world\" in C++ follows!"
   ]
  },
  {
   "cell_type": "code",
   "execution_count": 5,
   "metadata": {},
   "outputs": [
    {
     "name": "stdout",
     "output_type": "stream",
     "text": [
      "Hello world!\n"
     ]
    }
   ],
   "source": [
    "// iostream is included to print to a specified output\n",
    "#include <iostream>\n",
    "\n",
    "/* the line below specifies that Hello World! should be printed on \n",
    "/  standard output followed by a newline character */\n",
    "std::cout << \"Hello world!\" << std::endl;"
   ]
  },
  {
   "cell_type": "markdown",
   "metadata": {},
   "source": [
    "### Input/Output\n",
    "Streams of input/output: \n",
    "- **cin**: standard input (stdin)\n",
    "- **cout**: standard output (stdout)\n",
    "- **cerr**: standard error (stderr)\n",
    "- **clog**: standard logging\n",
    "\n",
    "\n",
    "### Namespace\n",
    "123"
   ]
  },
  {
   "cell_type": "code",
   "execution_count": 6,
   "metadata": {},
   "outputs": [
    {
     "name": "stdout",
     "output_type": "stream",
     "text": [
      "i = 11\n"
     ]
    },
    {
     "data": {
      "text/plain": [
       "@0x10ce32558"
      ]
     },
     "execution_count": 6,
     "metadata": {},
     "output_type": "execute_result"
    }
   ],
   "source": [
    "#include <iostream>\n",
    "\n",
    "using namespace std; // this line allows us to skip the std:: call from the previous code cell\n",
    "\n",
    "int i = 11;\n",
    "cout << \"i = \" << i << endl; // an alternative to printf and fprintf"
   ]
  },
  {
   "cell_type": "markdown",
   "metadata": {},
   "source": [
    "### Strings & Bools \n",
    "Strings -> built in. ...\n",
    "\n",
    "String functions: \n",
    "- size\n",
    "- length\n",
    "- max_size\n",
    "- resize\n",
    "- capacity\n",
    "- reserve\n",
    "- clear\n",
    "- empty\n",
    "- shrink_to_fit\n",
    "- c_str\n",
    "- data\n",
    "- copy\n",
    "- find\n",
    "- rfind\n",
    "- find_first_of\n",
    "- find_last_of\n",
    "- find_first_not_of\n",
    "- find_last_not_of \n",
    "- substr\n",
    "- compare"
   ]
  },
  {
   "cell_type": "code",
   "execution_count": 23,
   "metadata": {},
   "outputs": [
    {
     "name": "stdout",
     "output_type": "stream",
     "text": [
      "kiwi\n",
      "k~i~w~i~\n",
      "The string is: kiwi\n",
      "The string is: kiwi\n"
     ]
    }
   ],
   "source": [
    "// let's print a string in various ways\n",
    "#include <iostream>\n",
    "\n",
    "string fruit = \"kiwi\";\n",
    "// loop over each character in the string\n",
    "for (char c : fruit) {\n",
    "    // print out each character\n",
    "    std::cout << c;\n",
    "}\n",
    "// print out a newline character\n",
    "std::cout << endl;\n",
    "\n",
    "// loop over each character in the string again\n",
    "for (char c : fruit) {\n",
    "    // print out each character followed by a tilde\n",
    "    std::cout << c << \"~\";\n",
    "}\n",
    "std::cout << endl; // newline \n",
    "\n",
    "// print the string via std::cout <<\n",
    "std::cout << \"The string is: \" << fruit << endl;\n",
    "// print the string via printf and c_str\n",
    "printf(\"The string is: %s\\n\", fruit.c_str());"
   ]
  },
  {
   "cell_type": "markdown",
   "metadata": {},
   "source": [
    "### Types\n",
    "mention decltype"
   ]
  },
  {
   "cell_type": "code",
   "execution_count": 27,
   "metadata": {},
   "outputs": [
    {
     "name": "stdout",
     "output_type": "stream",
     "text": [
      "The string is: kiwi\n"
     ]
    }
   ],
   "source": [
    "// decltype deduces the type of its argument\n",
    "decltype(fruit) a = fruit;\n",
    "printf(\"The string is: %s\\n\", a.c_str());"
   ]
  },
  {
   "cell_type": "markdown",
   "metadata": {},
   "source": [
    "### Structs and Classes\n",
    "Structs and classes are similar in C++, however a class contains additional default privacy boundaries to limit the scope of its members. In C++ structs can have functions, thus classes can be built from structs, however keep in mind that members of a struct are public by default. \n",
    "\n",
    "Class boundaries via encapsulation:\n",
    "- Public: every object can utilize public scope\n",
    "- Private: a compile time error is generated if accessed directly\n",
    "- Protected: like private but accessible by inheriting class\n",
    "\n"
   ]
  },
  {
   "cell_type": "markdown",
   "metadata": {},
   "source": [
    "# C++ programming sandbox for testing:"
   ]
  },
  {
   "cell_type": "code",
   "execution_count": null,
   "metadata": {},
   "outputs": [],
   "source": [
    "#include <stdio.h> /* give access to printf to print to standard output */ \n",
    "#include <stdlib.h> /* gives access to EXIT_SUCCESS */\n",
    "\n",
    "int main(int argc, char *argv[]) { /* main is required */\n",
    "    char *filenames[1] = {\"-\"};\n",
    "    printf(\"%s\\n\", filenames[1]); \n",
    "    return EXIT_SUCCESS;\n",
    "}"
   ]
  },
  {
   "cell_type": "code",
   "execution_count": null,
   "metadata": {},
   "outputs": [],
   "source": [
    "char s[] = \"123456789\";\n",
    "long l;\n",
    "\n",
    "sscanf(s+2, \"%ld\", &l);\n",
    "printf(\"%ld\\n\", 1);"
   ]
  },
  {
   "cell_type": "code",
   "execution_count": null,
   "metadata": {},
   "outputs": [],
   "source": []
  }
 ],
 "metadata": {
  "kernelspec": {
   "display_name": "C++11",
   "language": "C++11",
   "name": "xcpp11"
  },
  "language_info": {
   "codemirror_mode": "text/x-c++src",
   "file_extension": ".cpp",
   "mimetype": "text/x-c++src",
   "name": "c++",
   "version": "11"
  }
 },
 "nbformat": 4,
 "nbformat_minor": 4
}

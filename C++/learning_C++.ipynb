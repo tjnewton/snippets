{
 "cells": [
  {
   "cell_type": "markdown",
   "metadata": {},
   "source": [
    "## My journey ***learning C++***, by Tyler Newton.  \n",
    "\n",
    "# this is a ~ messy ~ work in progress right now : ~ beware ~\n",
    "\n",
    "This notebook runs on a C++ Jupyter kernel thanks to Xeus Cling:  \n",
    "https://github.com/jupyter-xeus/xeus-cling  \n",
    "Follow the instructions in the above repo to install the C++ Jupyter kernel.  \n",
    "\n",
    "Prerequisite knowledge:  \n",
    "1. programming fundamentals. This notebook is not the appropriate place to start for those that are complete beginners to programming -> start with Caleb Curry's C video series instead (https://youtu.be/Bz4MxDeEM6k). \n",
    "2. C fundamentals ([C/learning_C.ipynb](https://github.com/tjnewton/snippets/blob/master/C/learning_C.ipynb))\n",
    "\n",
    "The information contained below comprises my notes from learning the C++ programming language from the following resources:\n",
    "1. The course **C/C++ & Unix** at University of Oregon\n",
    "2. The book *Thinking in C++* by Bruce Eckel. \n",
    "\n",
    "C++ offers features beyond those of C, like templates, overloading, inheritance, and data structures such as vectors and strings. The obligatory jump to \"Hello world\" in C++ follows!"
   ]
  },
  {
   "cell_type": "code",
   "execution_count": 5,
   "metadata": {},
   "outputs": [
    {
     "name": "stdout",
     "output_type": "stream",
     "text": [
      "Hello world!\n"
     ]
    }
   ],
   "source": [
    "// iostream is included to print to a specified output\n",
    "#include <iostream>\n",
    "\n",
    "/* the line below specifies that Hello World! should be printed on \n",
    "/  standard output followed by a newline character */\n",
    "std::cout << \"Hello world!\" << std::endl;"
   ]
  },
  {
   "cell_type": "markdown",
   "metadata": {},
   "source": [
    "### Input/Output\n",
    "Streams of input/output: \n",
    "- **cin**: standard input (stdin)\n",
    "- **cout**: standard output (stdout)\n",
    "- **cerr**: standard error (stderr)\n",
    "- **clog**: standard logging\n",
    "\n",
    "ifstream fin  \n",
    "ofstream fout  "
   ]
  },
  {
   "cell_type": "code",
   "execution_count": 1,
   "metadata": {
    "collapsed": true,
    "jupyter": {
     "outputs_hidden": true
    },
    "tags": []
   },
   "outputs": [
    {
     "name": "stderr",
     "output_type": "stream",
     "text": [
      "\u001b[1minput_line_7:2:2: \u001b[0m\u001b[0;1;31merror: \u001b[0m\u001b[1munknown type name 'ifstream'; did you mean 'std::ifstream'?\u001b[0m\n",
      " ifstream fin(\"input_file.txt\");\n",
      "\u001b[0;1;32m ^~~~~~~~\n",
      "\u001b[0m\u001b[0;32m std::ifstream\n",
      "\u001b[0m\u001b[1m/opt/anaconda3/envs/cpp/include/c++/v1/iosfwd:169:38: \u001b[0m\u001b[0;1;30mnote: \u001b[0m'std::ifstream' declared here\u001b[0m\n",
      "typedef basic_ifstream<char>         ifstream;\n",
      "\u001b[0;1;32m                                     ^\n",
      "\u001b[0m\u001b[1minput_line_7:2:11: \u001b[0m\u001b[0;1;31merror: \u001b[0m\u001b[1mimplicit instantiation of undefined template 'std::__1::basic_ifstream<char,\n",
      "      std::__1::char_traits<char> >'\u001b[0m\n",
      " ifstream fin(\"input_file.txt\");\n",
      "\u001b[0;1;32m          ^\n",
      "\u001b[0m\u001b[1m/opt/anaconda3/envs/cpp/include/c++/v1/iosfwd:144:32: \u001b[0m\u001b[0;1;30mnote: \u001b[0mtemplate is declared here\u001b[0m\n",
      "    class _LIBCPP_TEMPLATE_VIS basic_ifstream;\n",
      "\u001b[0;1;32m                               ^\n",
      "\u001b[0m\u001b[1minput_line_7:3:1: \u001b[0m\u001b[0;1;31merror: \u001b[0m\u001b[1munknown type name 'ofstream'; did you mean 'std::ofstream'?\u001b[0m\n",
      "ofstream fout(\"output_file.txt\");\n",
      "\u001b[0;1;32m^~~~~~~~\n",
      "\u001b[0m\u001b[0;32mstd::ofstream\n",
      "\u001b[0m\u001b[1m/opt/anaconda3/envs/cpp/include/c++/v1/iosfwd:170:38: \u001b[0m\u001b[0;1;30mnote: \u001b[0m'std::ofstream' declared here\u001b[0m\n",
      "typedef basic_ofstream<char>         ofstream;\n",
      "\u001b[0;1;32m                                     ^\n",
      "\u001b[0m\u001b[1minput_line_7:3:10: \u001b[0m\u001b[0;1;31merror: \u001b[0m\u001b[1mimplicit instantiation of undefined template 'std::__1::basic_ofstream<char,\n",
      "      std::__1::char_traits<char> >'\u001b[0m\n",
      "ofstream fout(\"output_file.txt\");\n",
      "\u001b[0;1;32m         ^\n",
      "\u001b[0m\u001b[1m/opt/anaconda3/envs/cpp/include/c++/v1/iosfwd:146:32: \u001b[0m\u001b[0;1;30mnote: \u001b[0mtemplate is declared here\u001b[0m\n",
      "    class _LIBCPP_TEMPLATE_VIS basic_ofstream;\n",
      "\u001b[0;1;32m                               ^\n",
      "\u001b[0m\u001b[1minput_line_7:4:1: \u001b[0m\u001b[0;1;31merror: \u001b[0m\u001b[1munknown type name 'string'; did you mean 'std::string'?\u001b[0m\n",
      "string myString;\n",
      "\u001b[0;1;32m^~~~~~\n",
      "\u001b[0m\u001b[0;32mstd::string\n",
      "\u001b[0m\u001b[1m/opt/anaconda3/envs/cpp/include/c++/v1/iosfwd:240:65: \u001b[0m\u001b[0;1;30mnote: \u001b[0m'std::string' declared here\u001b[0m\n",
      "typedef basic_string<char, char_traits<char>, allocator<char> > string;\n",
      "\u001b[0;1;32m                                                                ^\n",
      "\u001b[0m\u001b[1minput_line_7:5:20: \u001b[0m\u001b[0;1;31merror: \u001b[0m\u001b[1muse of undeclared identifier 's'\u001b[0m\n",
      "while(getline(fin, s)) {\n",
      "\u001b[0;1;32m                   ^\n",
      "\u001b[0m\u001b[1minput_line_7:6:13: \u001b[0m\u001b[0;1;31merror: \u001b[0m\u001b[1muse of undeclared identifier 's'\u001b[0m\n",
      "    fout << s << endl;\n",
      "\u001b[0;1;32m            ^\n",
      "\u001b[0m\u001b[1minput_line_7:6:18: \u001b[0m\u001b[0;1;31merror: \u001b[0m\u001b[1muse of undeclared identifier 'endl'; did you mean 'std::endl'?\u001b[0m\n",
      "    fout << s << endl;\n",
      "\u001b[0;1;32m                 ^~~~\n",
      "\u001b[0m\u001b[0;32m                 std::endl\n",
      "\u001b[0m\u001b[1m/opt/anaconda3/envs/cpp/include/c++/v1/ostream:1003:1: \u001b[0m\u001b[0;1;30mnote: \u001b[0m'std::endl' declared here\u001b[0m\n",
      "endl(basic_ostream<_CharT, _Traits>& __os)\n",
      "\u001b[0;1;32m^\n",
      "\u001b[0m"
     ]
    },
    {
     "ename": "Interpreter Error",
     "evalue": "",
     "output_type": "error",
     "traceback": [
      "Interpreter Error: "
     ]
    }
   ],
   "source": [
    "ifstream fin(\"input_file.txt\");\n",
    "ofstream fout(\"output_file.txt\");\n",
    "\n",
    "string myString;\n",
    "while(getline(fin, s)) {\n",
    "    fout << s << endl;\n",
    "}"
   ]
  },
  {
   "cell_type": "markdown",
   "metadata": {},
   "source": [
    "### Namespace\n",
    "...\n",
    "\n",
    "The scope operator (::)"
   ]
  },
  {
   "cell_type": "code",
   "execution_count": 6,
   "metadata": {},
   "outputs": [
    {
     "name": "stdout",
     "output_type": "stream",
     "text": [
      "i = 11\n"
     ]
    },
    {
     "data": {
      "text/plain": [
       "@0x10ce32558"
      ]
     },
     "execution_count": 6,
     "metadata": {},
     "output_type": "execute_result"
    }
   ],
   "source": [
    "#include <iostream>\n",
    "\n",
    "using namespace std; // this line allows us to skip the std:: call from the previous code cell\n",
    "\n",
    "int i = 11;\n",
    "cout << \"i = \" << i << endl; // an alternative to printf and fprintf"
   ]
  },
  {
   "cell_type": "markdown",
   "metadata": {},
   "source": [
    "### Bools \n",
    "bools -> built in ..."
   ]
  },
  {
   "cell_type": "markdown",
   "metadata": {},
   "source": [
    "### Strings\n",
    "Strings -> built in ...\n",
    "\n",
    "String functions: \n",
    "- size\n",
    "- length\n",
    "- max_size\n",
    "- resize\n",
    "- capacity\n",
    "- reserve\n",
    "- clear\n",
    "- empty\n",
    "- shrink_to_fit\n",
    "- c_str\n",
    "- data\n",
    "- copy\n",
    "- find\n",
    "- rfind\n",
    "- find_first_of\n",
    "- find_last_of\n",
    "- find_first_not_of\n",
    "- find_last_not_of \n",
    "- substr\n",
    "- compare"
   ]
  },
  {
   "cell_type": "code",
   "execution_count": 23,
   "metadata": {},
   "outputs": [
    {
     "name": "stdout",
     "output_type": "stream",
     "text": [
      "kiwi\n",
      "k~i~w~i~\n",
      "The string is: kiwi\n",
      "The string is: kiwi\n"
     ]
    }
   ],
   "source": [
    "// let's print a string in various ways\n",
    "#include <iostream>\n",
    "\n",
    "string fruit = \"kiwi\";\n",
    "// loop over each character in the string\n",
    "for (char c : fruit) {\n",
    "    // print out each character\n",
    "    std::cout << c;\n",
    "}\n",
    "// print out a newline character\n",
    "std::cout << endl;\n",
    "\n",
    "// loop over each character in the string again\n",
    "for (char c : fruit) {\n",
    "    // print out each character followed by a tilde\n",
    "    std::cout << c << \"~\";\n",
    "}\n",
    "std::cout << endl; // newline \n",
    "\n",
    "// print the string via std::cout <<\n",
    "std::cout << \"The string is: \" << fruit << endl;\n",
    "// print the string via printf and c_str\n",
    "printf(\"The string is: %s\\n\", fruit.c_str());"
   ]
  },
  {
   "cell_type": "markdown",
   "metadata": {},
   "source": [
    "### Vectors\n",
    "\"strings for numbers\"\n",
    "Vector class is a template"
   ]
  },
  {
   "cell_type": "markdown",
   "metadata": {},
   "source": [
    "### Types\n",
    "mention decltype  \n",
    "typedef -> using"
   ]
  },
  {
   "cell_type": "code",
   "execution_count": 27,
   "metadata": {},
   "outputs": [
    {
     "name": "stdout",
     "output_type": "stream",
     "text": [
      "The string is: kiwi\n"
     ]
    }
   ],
   "source": [
    "// decltype deduces the type of its argument\n",
    "decltype(fruit) a = fruit;\n",
    "printf(\"The string is: %s\\n\", a.c_str());"
   ]
  },
  {
   "cell_type": "markdown",
   "metadata": {},
   "source": [
    "### Dynamic memory\n",
    "**new** & **delete** keywords, like malloc & free but operators rather than functions"
   ]
  },
  {
   "cell_type": "markdown",
   "metadata": {},
   "source": [
    "### Structs and Classes\n",
    "Structs and classes are similar in C++, however a class contains additional default privacy boundaries to limit the scope of its members. In C++ structs can have functions and static variables, thus classes can be built from structs, however keep in mind that members of a struct are public by default. \n",
    "\n",
    "Class access boundaries:\n",
    "- Public: every object can utilize public scope\n",
    "- Private: a compile time error is generated if accessed directly\n",
    "- Protected: like private but accessible by inheriting class\n",
    "\n",
    "Member access using .  \n",
    "\n",
    "#### Class constructors  \n",
    "A constructor automatically initializes variables when an object is first created. Constructors can be overloaded like in Python. \n",
    "\n",
    "#### Friend\n",
    "Declaring an object as a **friend** to another object grants it access to that objects members, including private members. This feature allows object oriented programming without C++ being a pure object oriented language. \n",
    "\n",
    "#### Class destructors\n",
    "Destructors are used for cleanup and they take no arguments.   "
   ]
  },
  {
   "cell_type": "markdown",
   "metadata": {},
   "source": [
    "# C++ programming sandbox for testing:"
   ]
  },
  {
   "cell_type": "code",
   "execution_count": null,
   "metadata": {},
   "outputs": [],
   "source": [
    "#include <stdio.h> /* give access to printf to print to standard output */ \n",
    "#include <stdlib.h> /* gives access to EXIT_SUCCESS */\n",
    "\n",
    "int main(int argc, char *argv[]) { /* main is required */\n",
    "    char *filenames[1] = {\"-\"};\n",
    "    printf(\"%s\\n\", filenames[1]); \n",
    "    return EXIT_SUCCESS;\n",
    "}"
   ]
  },
  {
   "cell_type": "code",
   "execution_count": null,
   "metadata": {},
   "outputs": [],
   "source": [
    "char s[] = \"123456789\";\n",
    "long l;\n",
    "\n",
    "sscanf(s+2, \"%ld\", &l);\n",
    "printf(\"%ld\\n\", 1);"
   ]
  },
  {
   "cell_type": "code",
   "execution_count": null,
   "metadata": {},
   "outputs": [],
   "source": []
  }
 ],
 "metadata": {
  "kernelspec": {
   "display_name": "C++11",
   "language": "C++11",
   "name": "xcpp11"
  },
  "language_info": {
   "codemirror_mode": "text/x-c++src",
   "file_extension": ".cpp",
   "mimetype": "text/x-c++src",
   "name": "c++",
   "version": "11"
  }
 },
 "nbformat": 4,
 "nbformat_minor": 4
}
